{
 "cells": [
  {
   "cell_type": "markdown",
   "metadata": {},
   "source": [
    "##  Developer'ın Görünen Yüzü\n"
   ]
  },
  {
   "cell_type": "markdown",
   "metadata": {},
   "source": [
    "# README Nedir?"
   ]
  },
  {
   "cell_type": "markdown",
   "metadata": {},
   "source": [
    "![Readme.md Cover](https://www.makeareadme.com/images/open-graph-logo.png?v=20181203)"
   ]
  },
  {
   "cell_type": "markdown",
   "metadata": {},
   "source": [
    "* README dosyası bilgisayar yazılımının bir dizinindeki veya arşivindeki diğer dosyalar hakkında bilgi içeren, düz metin dosyası şeklinde bir belgedir.\n",
    "* Kısacası projenizi ziyaret eden bir kullanıcının projeye tıklandığında önüne gelen sayfadır."
   ]
  },
  {
   "cell_type": "markdown",
   "metadata": {},
   "source": [
    "\n",
    "\n",
    "## Readme dosyasında neler olmalıdır ?"
   ]
  },
  {
   "cell_type": "markdown",
   "metadata": {},
   "source": [
    "* Projenizin genel bir özeti.\n",
    "* Projenin kurulum ve kullanım talimatları.\n",
    "* Proje geliştirilirken hangi teknolojilerden yararlanıldığı.\n",
    "* Projeye eklemek istedikleriniz.\n",
    "* Projeyi geliştirenler.\n",
    "* Telif hakkı ve lisans bilgileri\n",
    "* Dağıtıcı veya programcı için iletişim bilgileri"
   ]
  },
  {
   "cell_type": "markdown",
   "metadata": {},
   "source": [
    "## Readme Nasıl Yazılır?"
   ]
  },
  {
   "cell_type": "markdown",
   "metadata": {},
   "source": [
    "Readme dosyasını istediginiz formatta yazabilirsiniz. Web sayfası, basit bir text dosyası ya da istediginiz gibi formatladırmak elinizde. Developerlar olarak oldukça fazla tercih edilen bir yöntem olan markdown var. **Markdown**'ı düz bir metin biçimlendirme sözdizimi olarak tanımlayabiliriz."
   ]
  },
  {
   "cell_type": "markdown",
   "metadata": {},
   "source": [
    "Şimdi Mardkown'ı nasıl kullanacağınıza geçelim. Github projenizde bir readme dosyası ekledikten sonra aşağıdaki örnekleri kullanarak bir readme yazabilirsiniz."
   ]
  },
  {
   "cell_type": "markdown",
   "metadata": {},
   "source": [
    "1. ###   Başlıklar Eklemek"
   ]
  },
  {
   "cell_type": "markdown",
   "metadata": {},
   "source": [
    "# Çok büyük başlık\n",
    "\n",
    "## Büyük başlık\n",
    "\n",
    "#### Daha küçük bir başlık"
   ]
  },
  {
   "cell_type": "markdown",
   "metadata": {},
   "source": [
    "2. ### Düz Yazı Biçimlendirmek"
   ]
  },
  {
   "cell_type": "markdown",
   "metadata": {},
   "source": [
    "**Kalın Yazı** \n",
    "\n",
    "*İtalik Yazı*\n",
    "\n",
    "~~Üzeri çizgili yazı~~\n",
    "\n",
    "**Metin içinde _önemli_ yazı**"
   ]
  },
  {
   "cell_type": "markdown",
   "metadata": {},
   "source": [
    "3. ### Listeler Oluşturmak"
   ]
  },
  {
   "cell_type": "markdown",
   "metadata": {},
   "source": [
    "Sıralı listeler oluşturmak için madde numarasından sonra nokta ve bir boşluk bırakmalısınız."
   ]
  },
  {
   "cell_type": "markdown",
   "metadata": {},
   "source": [
    "1. Listenin ilk girdisi\n",
    "2. Listenin ikinci girdisi"
   ]
  },
  {
   "cell_type": "markdown",
   "metadata": {},
   "source": [
    "'+,-,*' işaretleri ile de sırasız listeler oluşturabilirsiniz. Bu listeleri yazarken eğer tab ile boşluk bırakırsanız, liste içinde liste oluşturabilirsiniz.\n"
   ]
  },
  {
   "cell_type": "markdown",
   "metadata": {},
   "source": [
    "+ Listenin ilk girdisi\n",
    "    - İç içe listenin ilk girdisi"
   ]
  },
  {
   "cell_type": "markdown",
   "metadata": {},
   "source": [
    "4. ### Linkler Eklemek"
   ]
  },
  {
   "cell_type": "markdown",
   "metadata": {},
   "source": [
    "[Readme sayfasında görünecek kısımı buraya](link adresini ise bu kısma yazmalısınız) \n",
    "\n",
    "Örnek olarak, [Linkedin hesabıma buradan ulaşabilirsiniz](https://www.linkedin.com/in/sukrucancebeci) "
   ]
  },
  {
   "cell_type": "markdown",
   "metadata": {},
   "source": [
    "5. ### Görseller Eklemek"
   ]
  },
  {
   "cell_type": "markdown",
   "metadata": {},
   "source": [
    "Neredeyse link bırakma işlemiyle aynı adımları uygulamakla beraber, başına ünlem ekleyerek görseller ekleyebilirsiniz.\n",
    "\n",
    "![Global AI Hub Logo](https://globalaihub.com/wp-content/uploads/2020/01/Global_Ai_Hub_cropped.png)\n"
   ]
  },
  {
   "cell_type": "markdown",
   "metadata": {},
   "source": [
    "![Global AI Hub Logo](https://globalaihub.com/wp-content/uploads/2020/01/Global_Ai_Hub_cropped.png)"
   ]
  },
  {
   "cell_type": "markdown",
   "metadata": {},
   "source": [
    "5. ### Kod Parçası Eklemek"
   ]
  },
  {
   "cell_type": "markdown",
   "metadata": {},
   "source": [
    "Markdown ile readme dosyanıza kod parçaları eklemek için ters tırnak “AltGr + virgül” işaretini kullanmalısınız."
   ]
  },
  {
   "cell_type": "markdown",
   "metadata": {},
   "source": [
    "`import pandas as pd`\n",
    "`import numpy as np`\n",
    "`git status`\n",
    "`git add`\n",
    "`git commit`\n"
   ]
  },
  {
   "cell_type": "markdown",
   "metadata": {},
   "source": [
    "6. ### Alıntılar Yapmak\n"
   ]
  },
  {
   "cell_type": "markdown",
   "metadata": {},
   "source": [
    "*GitHub Repolarınızda fırtınalar estirip harika projeler yapsanız bile güzel bir “README.md” dosyanız olmadan kimseye gösteremezsiniz.* \n",
    "\n",
    "> ***Mert Çobanov***"
   ]
  },
  {
   "cell_type": "markdown",
   "metadata": {},
   "source": [
    "[Sizin için oluşturulmuş hazır bir README.md şablonu için tıklayın](https://github.com/sukrucnCbc/Utilities/blob/master/ReadMeTemplate.md)"
   ]
  },
  {
   "cell_type": "markdown",
   "metadata": {},
   "source": [
    "[Linkedin hesabım](https://linkedin.com/in/sukrucancebeci)\n",
    "\n",
    "[Github hesabım](https://github.com/sukrucnCbc)"
   ]
  },
  {
   "cell_type": "code",
   "execution_count": null,
   "metadata": {},
   "outputs": [],
   "source": []
  }
 ],
 "metadata": {
  "kernelspec": {
   "display_name": "Python 3",
   "language": "python",
   "name": "python3"
  },
  "language_info": {
   "codemirror_mode": {
    "name": "ipython",
    "version": 3
   },
   "file_extension": ".py",
   "mimetype": "text/x-python",
   "name": "python",
   "nbconvert_exporter": "python",
   "pygments_lexer": "ipython3",
   "version": "3.8.3"
  }
 },
 "nbformat": 4,
 "nbformat_minor": 4
}
