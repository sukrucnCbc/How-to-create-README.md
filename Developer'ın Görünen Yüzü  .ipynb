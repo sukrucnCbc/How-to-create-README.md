{
 "cells": [
  {
   "cell_type": "markdown",
   "metadata": {},
   "source": [
    "##  Developer'ın Görünen Yüzü\n"
   ]
  },
  {
   "cell_type": "markdown",
   "metadata": {},
   "source": [
    "# README Nedir?"
   ]
  },
  {
   "cell_type": "markdown",
   "metadata": {},
   "source": [
    "![Readme.md Cover](https://www.makeareadme.com/images/open-graph-logo.png?v=20181203)\n",
    "\n"
   ]
  },
  {
   "cell_type": "markdown",
   "metadata": {},
   "source": [
    "**?**  Readme GitHub gibi veri depolama servislerinde bir proje oluşturduğunuzda projenizin açıklama kısmıdır. Kısacası projenizi ziyaret eden bir kullanıcının projeye tıklandığında önüne gelen sayfadır."
   ]
  },
  {
   "cell_type": "markdown",
   "metadata": {},
   "source": [
    "\n",
    "\n",
    "## Readme dosyasında neler olmalıdır ?"
   ]
  },
  {
   "cell_type": "markdown",
   "metadata": {},
   "source": [
    "* Projenizin genel bir özeti.\n",
    "* Projenin kurulum ve kullanım talimatları.\n",
    "* Proje geliştirilirken hangi teknolojilerden yararlanıldığı.\n",
    "* Projeye eklemek istedikleriniz.\n",
    "* Projeyi geliştirenler.\n",
    "* Telif hakkı ve lisans bilgileri\n",
    "* Dağıtıcı veya programcı için iletişim bilgileri"
   ]
  },
  {
   "cell_type": "markdown",
   "metadata": {},
   "source": [
    "## Readme Nasıl Yazılır?"
   ]
  },
  {
   "cell_type": "markdown",
   "metadata": {},
   "source": [
    "Readme dosyasını istediginiz formatta yazabilirsiniz. Web sayfası, basit bir text dosyası ya da istediginiz gibi formatladırmak elinizde. Developerlar olarak oldukça fazla tercih edilen bir yöntem olan markdown var. **Markdown**'ı düz bir metin biçimlendirme sözdizimi olarak tanımlayabiliriz."
   ]
  },
  {
   "cell_type": "markdown",
   "metadata": {},
   "source": [
    "Şimdi Mardkown'ı nasıl kullanacağınıza geçelim. Github projenizde bir readme dosyası ekledikten sonra aşağıdaki örnekleri kullanarak bir readme yazabilirsiniz."
   ]
  },
  {
   "cell_type": "markdown",
   "metadata": {},
   "source": [
    "### 1.   Başlıklar Eklemek"
   ]
  },
  {
   "cell_type": "markdown",
   "metadata": {},
   "source": [
    "\n",
    "# Çok büyük başlık\n",
    "\n",
    "## Büyük başlık\n",
    "\n",
    "#### Daha küçük bir başlık\n"
   ]
  },
  {
   "cell_type": "markdown",
   "metadata": {},
   "source": [
    "### 2. Düz Yazı Biçimlendirmek"
   ]
  },
  {
   "cell_type": "markdown",
   "metadata": {},
   "source": [
    "\n",
    "**Kalın Yazı** \n",
    "\n",
    "*İtalik Yazı*\n",
    "\n",
    "~~Üzeri çizgili yazı~~\n",
    "\n",
    "**Metin içinde _önemli_ yazı**\n"
   ]
  },
  {
   "cell_type": "markdown",
   "metadata": {},
   "source": [
    "### 3. Listeler Oluşturmak"
   ]
  },
  {
   "cell_type": "markdown",
   "metadata": {},
   "source": [
    "Sıralı listeler oluşturmak için madde numarasından sonra nokta ve bir boşluk bırakmalısınız."
   ]
  },
  {
   "cell_type": "markdown",
   "metadata": {},
   "source": [
    "1. Listenin ilk girdisi\n",
    "2. Listenin ikinci girdisi"
   ]
  },
  {
   "cell_type": "markdown",
   "metadata": {},
   "source": [
    "'+,-,*' işaretleri ile de sırasız listeler oluşturabilirsiniz. Bu listeleri yazarken eğer tab ile boşluk bırakırsanız, liste içinde liste oluşturabilirsiniz.\n"
   ]
  },
  {
   "cell_type": "markdown",
   "metadata": {},
   "source": [
    "+ Listenin ilk girdisi\n",
    "    - İç içe listenin ilk girdisi"
   ]
  },
  {
   "cell_type": "markdown",
   "metadata": {},
   "source": [
    "### 4. Linkler Eklemek"
   ]
  },
  {
   "cell_type": "markdown",
   "metadata": {},
   "source": [
    "[Readme sayfasında görünecek kısımı buraya](link adresini ise bu kısma yazmalısınız) \n",
    "\n",
    "Örnek olarak, [Linkedin hesabıma buradan ulaşabilirsiniz](https://www.linkedin.com/in/sukrucancebeci) "
   ]
  },
  {
   "cell_type": "markdown",
   "metadata": {},
   "source": [
    "### 5. Görseller Eklemek"
   ]
  },
  {
   "cell_type": "markdown",
   "metadata": {},
   "source": [
    "Neredeyse link bırakma işlemiyle aynı adımları uygulamakla beraber, başına ünlem ekleyerek görseller ekleyebilirsiniz.\n",
    "\n"
   ]
  },
  {
   "cell_type": "markdown",
   "metadata": {},
   "source": [
    "![Global AI Hub Logo](https://globalaihub.com/wp-content/uploads/2020/01/Global_Ai_Hub_cropped.png)"
   ]
  },
  {
   "cell_type": "markdown",
   "metadata": {},
   "source": [
    "### 6. Kod Parçası Eklemek"
   ]
  },
  {
   "cell_type": "markdown",
   "metadata": {},
   "source": [
    "Markdown ile readme dosyanıza kod parçaları eklemek için ters tırnak “AltGr + virgül” işaretini kullanmalısınız."
   ]
  },
  {
   "cell_type": "markdown",
   "metadata": {},
   "source": [
    "`import pandas as pd`\n",
    "`import numpy as np`\n",
    "`git status`\n",
    "`git add`\n",
    "`git commit`\n"
   ]
  },
  {
   "cell_type": "markdown",
   "metadata": {},
   "source": [
    "### 7.  Alıntılar Yapmak\n"
   ]
  },
  {
   "cell_type": "markdown",
   "metadata": {},
   "source": [
    "*GitHub Repolarınızda fırtınalar estirip harika projeler yapsanız bile güzel bir “README.md” dosyanız olmadan kimseye gösteremezsiniz.* \n",
    "\n",
    "> ***Mert Çobanov***"
   ]
  },
  {
   "cell_type": "markdown",
   "metadata": {},
   "source": [
    "[Sizin için oluşturulmuş hazır bir README.md şablonu için tıklayın](https://github.com/sukrucnCbc/How-to-create-README.md/blob/main/ReadmeTemplate.md)"
   ]
  },
  {
   "cell_type": "markdown",
   "metadata": {},
   "source": [
    "---\n",
    "# Linkedin Profilinizi Nasıl Hazırlamalısınız?\n",
    "\n"
   ]
  },
  {
   "cell_type": "markdown",
   "metadata": {},
   "source": [
    "![Linkedin](https://cultivatedculture.com/wp-content/uploads/2019/05/LinkedIn-Cover-Photo-Example-Cultivated-Culture.png)"
   ]
  },
  {
   "cell_type": "markdown",
   "metadata": {},
   "source": [
    "İş yaşamında yeni kariyer fırsatları, yurt dışına açılma olanakları, iyi ve sürdürülebilir ilişkiler kurma, marka tanıtımı, iş geliştirme, kişisel pazarlama, networking gibi konularda LinkedIn çok önemli bir rol oynuyor.\n",
    "\n",
    "**!** Profilinizi mükemmelleştirdiğinizden emin olmak, size müthiş geri dönüşler verebilir. LinkedIn‘de mükemmel bir profil oluşturmak için aşağıdaki adımları takip etmelisiniz."
   ]
  },
  {
   "cell_type": "markdown",
   "metadata": {},
   "source": [
    "### 1. Profil Resmi ve Hakkınızda Kısmı\n"
   ]
  },
  {
   "cell_type": "markdown",
   "metadata": {},
   "source": [
    "+ Profil resmi sizi aramalarda üst sıralara taşıyacak LinkedIn profil tamamlama algoritmasının önemli bir parçasıdır.\n",
    "+ Mutlaka bir arka plan resminiz olsun. Bu kısım eğer insanlar tıklarsa hakkınızda bir şeyler öğrenmeleri için kendinizi pazarlamak adına çok güzel bir alan.\n",
    "+ Birinci şahıs olarak yazın, bir kişiyle konuşuyormuşsunuz, ne yaptığınızı açıklıyor gibi. Kendi sesinizi kullanmak önemlidir.\n",
    "+ İnsanların, LinkedIn profilinizden sizin hakkınızda daha fazla bilgi edinmesini istiyoruz. Bunu yapmak için en iyi yer özet bölümüdür.\n",
    "+ Bu kısımda özgüvenli cümleler kurun ve harekete geçirici mesaj ekleyin.Örnek olarak;\n",
    "\n",
    "    - Benimle doğrudan name@example.com adresinden iletişime geçmekten çekinmeyin.\n",
    "    - Portfolioname.com'da bazı tasarım örneklerime göz atın.\n",
    "    - Mygithubprofile.com'da Github depolarıma bakın.\n",
    "   \n",
    "    \n",
    "+ Çalışmak istediğiniz teknolojileri ve dilleri ekleyin.\n",
    "+ Şirket yöneticilerinin ve işe alım görevlilerinin yetenek kaynağı olarak kullandıkları yukarıda belirtilen dahili arama algoritması nedeniyle *anahtar kelimeler* LinkedIn'de çok önemlidir.\n",
    "- Algoritmanın doğru insanları yolunuza göndermesini sağlamak için, belirli diller ve çerçeveler gibi çalışmak istediğiniz belirli şeyleri vurgulayın. (Örnek: Python, R, Ruby on Rails, Angular.js, Sass, WordPress vb.)\n",
    "    \n",
    ">I am a Front End developer with industry experience building websites and web applications. I specialize in JavaScript and have professional experience working with C# and Angular. I also have experience working with Vue, Ruby on Rails, and React. Take a look at my work or get in touch! www.sukrucan@teknoforce.com\n",
    "\n",
    "\n",
    ">I’m a research scientist working to better understand how neural activity motivates and shapes human behavior. My expertise includes project design and management, data analysis and interpretation, and the development and implementation of research tools. I enjoy generating new ideas and devising feasible solutions to broadly relevant problems. My colleagues would describe me as a driven, resourceful individual who maintains a positive, proactive attitude when faced with adversity. Currently, I’m seeking opportunities that will allow me to develop and promote technologies that benefit human health. Specific fields of interest include data analytics, biotechnology, and pharmaceuticals.\n"
   ]
  },
  {
   "cell_type": "markdown",
   "metadata": {},
   "source": [
    "### 2. Başlık"
   ]
  },
  {
   "attachments": {},
   "cell_type": "markdown",
   "metadata": {},
   "source": [
    "+ Başlığınız sayfanızın en üstünde bulunur, aramalarda resminizin yanında görünür. Burası insanların gördüğü ilk yerdir, bu yüzden dikkatlerini çekmelisiniz. Kısıtlı bir alanınız olduğu için dikkat çekici kelimeler kullanın, *kendinizi bir cümlede tanıtın*.\n",
    "\n",
    "> ![title](https://rahulogy.com/wp-content/uploads/2017/08/Kim-LinkedIn-Profile.png)\n",
    "\n",
    "\n",
    "\n",
    ">Web Developer at Jobscan | Full Stack Engineer | Front End Specialist | HTML5, CSS3, Bootstrap, JQuery, PHP"
   ]
  },
  {
   "cell_type": "markdown",
   "metadata": {},
   "source": [
    "### 3. İletişim Bilgisi\n"
   ]
  },
  {
   "cell_type": "markdown",
   "metadata": {},
   "source": [
    "+ LinkedInin amacı sizin bağlantılarınızı artırmak olduğu için iletişim bilgilerinizi paylaşmalısınız.\n",
    "    + E mail adresi\n",
    "    + Github bağlantısı\n",
    "    + Şirket sitesi\n",
    "    + Telefon numarası\n"
   ]
  },
  {
   "cell_type": "markdown",
   "metadata": {},
   "source": [
    "### 4. İş Tecrübesi"
   ]
  },
  {
   "cell_type": "markdown",
   "metadata": {},
   "source": [
    "+ Bu sekmede 3 tecrübenizin olduğundan ve her birindeki görev ve başarılarınızı yazdığınızdan emin olun.\n",
    "\n",
    "> Front End Developer My role is to write and style the front-end components that meet the requirements of our mocks and fulfill our user stories. I also monitor and process pull requests for production deployments. Technologies used: Angular, JavaScript, ES6, TypeScript, SASS\n",
    "\n",
    ">Director of Sales, Southwest Region – Chase | Los Angeles, CA                                                               \n",
    ">Led a team of two account executives. Together we managed a portfolio of 50+ clients and agencies. Our client base consisted of Fortune 500 companies from a wide range of industries including Entertainment, Auto, Technology, Fashion, Technology, and Travel.\n",
    "\n"
   ]
  },
  {
   "cell_type": "markdown",
   "metadata": {},
   "source": [
    "### 5. Projeler"
   ]
  },
  {
   "cell_type": "markdown",
   "metadata": {},
   "source": [
    "+ Bu kısımda daha önce gerçekleştirmiş olduğunuz ve şu anda üzerinde çalıştığınız projelere yer verin. Bu sayede bağlantı kurduğunuz kişiler profesyonel yetkinlikleriniz ve çalışma alanlarınız hakkında daha kolay fikir sahibi olabilirler.\n",
    "+ Projelerinize GitHub bağlanılarını da eklemeyi unutmayın."
   ]
  },
  {
   "cell_type": "markdown",
   "metadata": {},
   "source": [
    "### 6. Kişiselleştirilmiş URL"
   ]
  },
  {
   "cell_type": "markdown",
   "metadata": {},
   "source": [
    "+ LinkedIn hesabınızı oluşturduğunuzda otomatik olarak, marka ya da firmanızla alakası olmayan, anlamsız sayılardan, harflerden, ters slash işaretlerinden oluşan karmaşık bir internet adresi veriliyor. Başvurularınızda ve CV'nizde bu adresi sık sık kullanacağınız için mutlaka profil url'nizi kişiselleştirin."
   ]
  },
  {
   "cell_type": "markdown",
   "metadata": {},
   "source": [
    "### 7. Eğitim"
   ]
  },
  {
   "cell_type": "markdown",
   "metadata": {},
   "source": [
    "+ Eğitim bölümü özellikle yeni başlayanlar için önemlidir çünkü teknoloji bilginiz üzerinde çalıştığınızı ve test edildiğinizi gösterir. Aynı zamanda kendini geliştirmeye değer verdiğini de gösterir.\n",
    "+ Bu kısıma eğitim hayatınız boyunca yer aldığınız gönüllülük faaliyetlerini, kulüp çalışmalarınızı, aldığınız dersleri ve transkriptinizi ekleyebilirsiniz.\n",
    "\n"
   ]
  },
  {
   "cell_type": "markdown",
   "metadata": {},
   "source": [
    "### 8. Kurslar ve Sertifikalar"
   ]
  },
  {
   "cell_type": "markdown",
   "metadata": {},
   "source": [
    "+ Kurslar bölümü sizin kendinizi hangi alanda geliştirdiğiniz ve profesyonel çalışma hedefleriniz hakkında bilgiler barındırır. Aynı zamanda bu kurslara ve eğitimlere katıldığınızı sertifikalarınız ile belgelendirebilirsiniz."
   ]
  },
  {
   "cell_type": "markdown",
   "metadata": {},
   "source": [
    "\n",
    "---\n",
    "+ Benim LinkedIn profilime erişmek için [şuraya](https://www.linkedin.com/in/sukrucancebeci/),\n",
    "+ Profesyonel LinkedIn hesapları hakkında daha ayrıntılı bilgilere ve şablonlara ulaşmak için [buraya](https://business.linkedin.com/talent-solutions/blog/linkedin-best-practices/2016/7-linkedin-profile-summaries-that-we-love-and-how-to-boost-your-own#katrina) tıklayabilirsiniz."
   ]
  },
  {
   "cell_type": "markdown",
   "metadata": {},
   "source": [
    "---\n",
    "# Etkili CV'ler Nasıl Görünür?\n",
    "![Cover](https://static-cse.canva.com/image/20744/resume.jpg)"
   ]
  },
  {
   "attachments": {},
   "cell_type": "markdown",
   "metadata": {},
   "source": [
    "İşverenler her bir CV'yi taramak için yalnızca 6 saniye harcar . Yani ilk izlenim çok önemlidir. Düzgün organize edilmiş bir belge gönderirseniz, işe alım görevlilerini özgeçmişinize daha fazla zaman ayırmaya ikna edersiniz.\n",
    "\n",
    "Öte yandan, kötü biçimlendirilmiş bir özgeçmiş, sizi ilk tur incelemede göz ardı ettirecektir. Bu yüzden etkili CV'ler hazırlarken mutlaka doğru bölüm sıralaması yapmalısınız. Bu sıralama şu şekilde olmalıdır;\n",
    "1. İletişim Bilgileri ile CV Başlığı\n",
    "2. Kişisel Profil: Önyazı veya CV Özeti\n",
    "3. İş deneyimi\n",
    "4. Eğitim\n",
    "5. Beceriler\n",
    "6.  Ek Bölümler\n",
    "\n",
    "\n",
    "\n",
    "\n",
    "İletişim bilgileri bölümüne şu bilgileri mutlaka girin:\n",
    "+ Eposta\n",
    "+ Telefon numarası\n",
    "+ LinkedIn profili\n",
    "+ Github Linki\n",
    "\n",
    "\n"
   ]
  },
  {
   "attachments": {},
   "cell_type": "markdown",
   "metadata": {},
   "source": [
    "### İyi Bir Özet ve Önyazı\n",
    "+ Özgeçmiş özeti, özgeçmişinizin üst kısmında yer alan ve iş açılışıyla ilgili niteliklerinizi, becerilerinizi ve deneyimlerinizi vurgulayan kısa bir ifade dizisidir. İşte tam da bu yüzden sizi kısaca özetleyecek ve aynı zamanda değerlendirecek kişi üzerinde merak uyandıracak cümleler kurmalısınız.\n",
    "\n",
    "\n",
    "\n",
    "> Experienced lead full-stack software engineer seeking a position at a mid-sized web product startup where I can apply my skills in developing, scaling, and maintaining web services in Google Cloud.\n"
   ]
  },
  {
   "cell_type": "markdown",
   "metadata": {},
   "source": [
    "### Düzene Sadık Kal\n",
    "+ Sıralamayı düzgün biçinde yaptıktan sonra sektörünüze ve iş alanlarınıza uygun CV teması seçmelisiniz. Bu kısımda net, okunaklı yazı tipleri seçmeye özen gösterin. \n",
    "+ CV düzeninizle tutarlı olun. CV başlıklarınızın tek tip olduğundan emin olun. Onları daha büyük ve kalın yapın, ancak italik ve altını çizmeye özen gösterin. \n",
    "+ CV'nizde tek bir tarih formatına bağlı kalın: örneğin 11-2017 veya Kasım 2017.\n",
    "\n"
   ]
  },
  {
   "cell_type": "markdown",
   "metadata": {},
   "source": [
    "###  Az ve Öz Bilgi Ver"
   ]
  },
  {
   "cell_type": "markdown",
   "metadata": {},
   "source": [
    "Fazla kalabalık ve uzun bir CV, mülakata çağrılmak yerine elenmenize neden olabilir. Bu şekilde yüzlerce başvuru olduğunu düşünün, insan kaynakları yöneticilerinin hepsini inceleyecek kadar zamanı olmayabilir. Bu yüzden CV’niz en etkileyici ve önemli kariyer adımlarınızı vurgulamalıdır. Kendinize şu soruyu sorun; bu iş için en uygun başarılarım hangileri?\n",
    "\n",
    "Az ama öz.\n",
    "\n",
    " \n",
    "\n",
    "Beyaz boşluk sizin dostunuzdur !\n"
   ]
  },
  {
   "cell_type": "markdown",
   "metadata": {},
   "source": [
    "İşte bu kurallara uygun, etkili bir CV örneği;\n",
    "> ![excellentcv](https://uploads-ssl.webflow.com/5e9b599e716f9d94b6c84f43/5fbb44837a07e56f30b60f4e_full-stack-developer-resume-example-p-1080.png)"
   ]
  },
  {
   "cell_type": "markdown",
   "metadata": {},
   "source": [
    "Etkili CV'ler hakkında daha fazla bilgiye ulaşmak için bağlantıya [tıklayın.](https://zety.com/blog/how-to-write-a-cv#cv-format)"
   ]
  },
  {
   "cell_type": "markdown",
   "metadata": {},
   "source": [
    "---"
   ]
  },
  {
   "cell_type": "markdown",
   "metadata": {},
   "source": [
    "# Mülakat Teknikleri"
   ]
  },
  {
   "cell_type": "markdown",
   "metadata": {},
   "source": [
    "![image_interwiev](https://cdn-5ec40373c1ac18016c052912.closte.com/wp-content/uploads/2020/05/Most-common-interview.jpg)"
   ]
  },
  {
   "cell_type": "markdown",
   "metadata": {},
   "source": [
    "*Mülakat, Şirket Yöneticileri Ve/Veya Işe Alım Uzmanı Ile Başvuran Adayın Bir Oturumda Birbirlerini Daha Iyi Tanımak Için Bir Araya Gelmesidir.*\n",
    "\n"
   ]
  },
  {
   "cell_type": "markdown",
   "metadata": {},
   "source": [
    "Mülakat teknikleri iş görüşmesinde adayların değerlendirme şeklini belirler. Örneğin proje bazlı bir çalışma için vaka mülakatı, yoğun kriz olasılığı mevcut bir iş için stres mülakatı uygulanabilir. Bu kısımda uygulanışları bakımından mülakatlar listelenmiştir;\n",
    "+ **Geleneksel Mülakatlar**: Geleneksel Mülakatlarda görüşmeyi yapan kişi açık uçlu, genel sorular yöneltir. Görüşme yapılan aday kendisiyle ilgili genel bilgileri paylaşır. Mülakat, örnekler, davranışlar ve özellikler üzerinden detaylı yürütülmez.\n",
    "\n",
    "\n",
    "+ **Yapılandırılmış Mülakat**: Bu mülakat tekniğinde İnsan Kaynakları Sorumluların soracağı tüm sorular önceden bellidir. Her adaya aynı soru verilir ve cevapları puanlanır. Amacı birebir mülakatta oluşabilecek öznelliği azaltmaktır.\n",
    "\n",
    "\n",
    "+ **Yapılandırılmamış Mülakat**: Yapılandırılmış mülakatın sorularla doğal bir sohbet içinde gelişir.  Adayın önceden bilgi, özgeçmişi ve mülakat söyledikleri sohbet akışını ilerletir.\n",
    "\n",
    "\n",
    "+ **Panel Mülakatları** [Davranış Belirleyici veya Geleneksel]: Panel Mülakatları, yetkinlik bazlı-davranış odaklı ya da geleneksel mülakat çeşidi kullanılarak yürütülebilir ancak, görüşmeyi yapan kişi sayısı birden fazladır. Paneli oluşturan bu kişiler adaya sırayla soru yöneltirler. \n",
    "\n",
    "\n",
    "+ **Grup Mülakatları**: Grup Mülakatları genelde şirket tanıtımıyla beraber, tartışmalar ve soru-cevap oturumları şeklinde yürütülür. Mülakata, bir oturumda katılan aday sayısı, birden fazladır.\n",
    "\n",
    "    +    Şirket adayların davranışlarını mukayeseli olarak gözlemleme şansı elde eder.\n",
    "    +   Adaylar, aynı zamanda kılık kıyafet, tavır, davranış, beden dili, iletişim yetenekleri, grup içinde etkileşim ve katılım alanlarında da değerlendirilirler.\n",
    "    \n",
    "    \n",
    "+ **Yetkinlik Bazlı – Davranış Odaklı Mülakatlar**: Bu tarz mülakatlar developer adaylarının en sık karşılaştığı yöntem olmasının yanında, adayın başarı potansiyelini belirlemek amacıyla daha önce edindiği deneyim ve gösterdiği davranışların değerlendirilmesine odaklanır. Genellikle adayın başvurduğu pozisyona mesleki olarak ne kadar yeterli olduğunu ölçmek için kullanılır.\n",
    "\n",
    "\n"
   ]
  },
  {
   "cell_type": "markdown",
   "metadata": {},
   "source": [
    "Mülakat içeriğini belirleyen konulardan bazıları:\n",
    "\n",
    "+    Adayın geçmişi\n",
    "+    Kişiliği\n",
    "+    Bilgi Birikimi\n",
    "+    Değerleri\n",
    "+    Yetkinlikleri\n",
    "+    Kariyer Hedefleri\n",
    "\n",
    "Mülakat aynı zamanda başvuran adayın şirket ile ilgili detaylı fikir edinmesini sağlar. Bu konulardan bazıları:\n",
    "\n",
    "+   Şirketin Çalışma Anlayışı\n",
    "+   Çalışma Ortamı\n",
    "+   İş Tanımındaki Öncelikler\n",
    "+   Yönetim Politikası\n",
    "+   İnsan Kaynakları Uygulamaları\n",
    "\n",
    "Bu bilgiler ışığında genel olarak mülakatın amaçlarını ve başarımlarını öğrendiğimize göre daha iyi bir mülakat süreci geçirmek için ihtiyaç duyulan mülakat tekniklerine geçelim."
   ]
  },
  {
   "cell_type": "markdown",
   "metadata": {},
   "source": [
    "## Mülakatlara Nasıl Hazırlanmalı\n",
    "\n",
    "###  ! Olmazsa Olmazlar\n",
    "+ Görüşmenize asla geç kalmayın. Herkesin evden çalışmaya başladığı ve haliyle mülakatların da dijital ortamda sürdürüldüğünü göz önünde bulundurursak, görüşmenizden en az 5-10 dk. önce platformunuzdaki bekleme odasında yerinizi alın.\n",
    "+ Giyiminize dikkat edin.\n",
    "+ Görüşme ne kadar uzun sürerse sürsün, nezaketi elden bırakmayın ve görüşmeciyle aranızdaki mesafeyi koruyun.\n",
    "+ Olumlu düşünün, pozitif olun ve dürüst cevaplar verin."
   ]
  },
  {
   "cell_type": "markdown",
   "metadata": {},
   "source": [
    "### 1. Sektörü ve Şirketi Araştırın\n",
    "+ Görüşmeci, şirketinin sektördeki konumunu nasıl algıladığınızı, firmanın rakiplerinin kim olduğunu, rekabet avantajlarının neler olduğunu ve en iyi nasıl ilerlemesi gerektiğini sorabilir. Bu nedenle, şirket hakkında mutlaka ön inceleme yapın."
   ]
  },
  {
   "cell_type": "markdown",
   "metadata": {},
   "source": [
    "### 2. Görüşmeye Hazırlıklı Olun\n",
    "+ İş gereksinimlerini ve işvereni analiz edin ve neden uygun olacağınızla ilgili zorlayıcı nedenleri paylaşmaya hazır olun. Zayıf yönleriniz de dâhil söylemeyi planladığınız her şeyi hazırlayın ve prova yapın. Sizi pozisyon için en iyi aday yapan şey gibi, önemli noktaları göz önünde bulundurarak girmeye hazırlanın(\"İyi iletişim becerilerim var. Örneğin, bütün bir grubu ... yapmaya ikna ettim\").  Özgeçmişinizi dikkatlice gözden geçirin ve pozisyondaki zorlukları ve başarıları tartışmaya hazır olun.\n",
    "\n",
    "+ Görüşmeciye neden bu işi istediğinizi anlatmaya hazır olun. Bir görüşmeci işle gerçekten ama gerçekten ilgilendiğinizi düşünmüyorsa, ne kadar iyi olursanız olun size teklif vermeyecektir.\n"
   ]
  },
  {
   "cell_type": "markdown",
   "metadata": {},
   "source": [
    "### 3. Endişeleri ve Çekinceleri Önceden Tahmin Edin\n",
    "+ Pozisyonlar için her zaman fazla aday vardır. Bu yüzden görüşmeciler insanları dışarıda bırakmanın yollarını arıyor. Kendinizi onların yerine koyun ve neden sizi işe almak istemeyebileceklerini kendinize sorun. Sonra savunmanızı hazırlayın.\n",
    "\n"
   ]
  },
  {
   "cell_type": "markdown",
   "metadata": {},
   "source": [
    "### 4. Potansiyel Mülakat Soruları İçin Hazırlanın Ve Pratik Yapın\n",
    "+ Mülakatta gelebilecek sorular üzerinde düşünün. Kendinize bir rol edinerek bu sorulara verebileceğiniz yanıt üzerinde alıştırmalar yapın. Böylece gerçek mülakat sırasında onları en baştan düşünmek ve cevap hazırlamak zorunda kalmayacaksınız.7\n",
    "+ \"Neden seni işe almalıyız?\" Gibi bir soruya zihinsel bir cevapla hazırlıklı gelmek bir şeydir. Kendinden emin ve inandırıcı bir şekilde bunu tamamen yüksek sesle söylemek başka bir zorluktur. İlk kez denediğinizde, düşünceleriniz kendi zihninizde ne kadar net olursa olsun, kulağa hoş gelmeyen cümleler ortaya çıkabilir. Bu yüzden mümkün olduğınca pratik yapın.\n",
    "+ Yetkinlikleriniz ve Davranışlarınız Üzerinde Düşünün. Bunun için, geçmiş deneyimleriniz üzerine odaklanın: Ödevler, projeler, stajlar.\n",
    "    + Üstlendiğiniz görev nasıl gelişti?\n",
    "    + Zamana, baskıya ve beklenmedik durumlara karşı nasıl mücadele ettiniz?\n",
    "    + Görev dağılımı nasıldı?\n",
    "\n",
    "+ Yapmış olduğunuz araştırma ve projelerinizi gözden geçirerek, bunları hazırlarken karşılaştığınız güçlükleri ve nasıl başarıyla tamamladığınızı düşünün.\n",
    "\n",
    "\n"
   ]
  },
  {
   "cell_type": "markdown",
   "metadata": {},
   "source": [
    "### 7. İlk Beş Dakikada Başarı Elde Edin\n",
    "+ Bazı araştırmalar, görüşmecilerin görüşmenin ilk beş dakikasında adaylar hakkında karar verdiklerini ve ardından görüşmenin geri kalanını bu kararı doğrulayacak şeyler arayarak geçirdiklerini gösteriyor! Peki o beş dakikada kapıdan geçmek için ne yapabilirsiniz? Enerji ve coşkuyla gelin ve görüşmecinin zamanını takdir ettiğinizi ifade edin. "
   ]
  },
  {
   "cell_type": "markdown",
   "metadata": {},
   "source": [
    "### 5. Görüşmeyi Yapacak Kişi İçin Sorularınızı Sıralayın\n",
    "+ Görüşmeci için şirket hakkındaki bilginizi ve ciddi niyetinizi gösteren bazı akıllı sorularla görüşmeye gelin. Görüşmeciler her zaman herhangi bir sorunuz olup olmadığını sorarlar ve ne olursa olsun hazır bir veya iki tane hazırlamanız gerekir. \"Hayır, gerçekten değil\" derseniz, o işle veya şirketle o kadar da ilgilenmediğiniz sonucuna varabilir.\n",
    "    + Yeni işe alınan kişiler ne tür bir oryantasyon veya eğitime tabi tutulur?\n",
    "    + İşteki ilk altı ay/ 1 yıl içerisinde sizden neler başarmanız bekleniyor?\n"
   ]
  },
  {
   "cell_type": "markdown",
   "metadata": {},
   "source": [
    "### 6. Teşekkürle ve İyi Dileklerle Bitirin\n",
    "+ Mülakat sizin açınızdan kötü de geçse nezaketi elden bırakmayın ve pozitif cümlelerle veda edin. "
   ]
  },
  {
   "cell_type": "markdown",
   "metadata": {},
   "source": [
    "---"
   ]
  },
  {
   "cell_type": "markdown",
   "metadata": {},
   "source": [
    "HAZIRLAYAN: Şükrücan Cebeci -\n",
    "sukrucan.ieeektu@gmail.com\n",
    "\n",
    "[Linkedin Bağlantısı](https://www.linkedin.com/in/sukrucancebeci/)\n",
    "\n",
    "[Github Bağlantısı](https://github.com/sukrucnCbc)"
   ]
  }
 ],
 "metadata": {
  "kernelspec": {
   "display_name": "Python 3",
   "language": "python",
   "name": "python3"
  },
  "language_info": {
   "codemirror_mode": {
    "name": "ipython",
    "version": 3
   },
   "file_extension": ".py",
   "mimetype": "text/x-python",
   "name": "python",
   "nbconvert_exporter": "python",
   "pygments_lexer": "ipython3",
   "version": "3.8.3"
  }
 },
 "nbformat": 4,
 "nbformat_minor": 4
}
